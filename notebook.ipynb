{
 "cells": [
  {
   "cell_type": "code",
   "execution_count": 1,
   "metadata": {},
   "outputs": [],
   "source": [
    "import pandas as pd\n",
    "# Importar la función get_vector_store\n",
    "from src.tools import get_vector_store  \n",
    "from src.tools import search_products  \n",
    "from src.tools import search_tool  \n",
    "from src.tools import structured_search_tool\n",
    "from src.tools import set_user_id\n"
   ]
  },
  {
   "cell_type": "code",
   "execution_count": 2,
   "metadata": {},
   "outputs": [
    {
     "name": "stderr",
     "output_type": "stream",
     "text": [
      "c:\\Users\\Carlos\\anaconda3\\envs\\tasks1\\Lib\\site-packages\\tqdm\\auto.py:21: TqdmWarning: IProgress not found. Please update jupyter and ipywidgets. See https://ipywidgets.readthedocs.io/en/stable/user_install.html\n",
      "  from .autonotebook import tqdm as notebook_tqdm\n"
     ]
    },
    {
     "name": "stdout",
     "output_type": "stream",
     "text": [
      "[Document(id='1684846c-83d5-449b-aa85-a7886b3e5904', metadata={'product_name': 'Heart Healthy Mix', 'aisle': 'nuts seeds dried fruit', 'department': 'snacks', 'product_id': 26148}, page_content='Heart Healthy Mix, found in the nuts seeds dried fruit aisle of the snacks department.'), Document(id='b6534698-8570-49f3-8e98-d65e52f43b0e', metadata={'product_id': 28202, 'product_name': 'Healthy Grains with Chia Seeds, Raspberry Clusters', 'aisle': 'energy granola bars', 'department': 'snacks'}, page_content='Healthy Grains with Chia Seeds, Raspberry Clusters, found in the energy granola bars aisle of the snacks department.'), Document(id='37b94f93-d0cd-4591-9326-a9d2667623ac', metadata={'aisle': 'nuts seeds dried fruit', 'product_name': 'NUT-rition Heart Healthy Mixed Nuts', 'product_id': 23100, 'department': 'snacks'}, page_content='NUT-rition Heart Healthy Mixed Nuts, found in the nuts seeds dried fruit aisle of the snacks department.'), Document(id='ae61bff4-7adc-40c4-b79b-8a94904201dd', metadata={'aisle': 'nuts seeds dried fruit', 'department': 'snacks', 'product_id': 21756, 'product_name': 'NUTrition Wholesome Nut Mix'}, page_content='NUTrition Wholesome Nut Mix, found in the nuts seeds dried fruit aisle of the snacks department.'), Document(id='5bf7903e-1eec-461b-8ec8-b0cbe4f70831', metadata={'department': 'snacks', 'aisle': 'energy granola bars', 'product_name': 'Nuts & Spices Dark Chocolate Nuts & Sea Salt Snack Bars', 'product_id': 43814}, page_content='Nuts & Spices Dark Chocolate Nuts & Sea Salt Snack Bars, found in the energy granola bars aisle of the snacks department.')]\n"
     ]
    }
   ],
   "source": [
    "# Probar la función\n",
    "vector_store = get_vector_store()\n",
    "results = vector_store.similarity_search(\"healthy snacks\", k=5)\n",
    "print(results)"
   ]
  },
  {
   "cell_type": "code",
   "execution_count": 7,
   "metadata": {},
   "outputs": [
    {
     "name": "stdout",
     "output_type": "stream",
     "text": [
      "page_content='Heart Healthy Mix, found in the nuts seeds dried fruit aisle of the snacks department.' metadata={'product_name': 'Heart Healthy Mix', 'aisle': 'nuts seeds dried fruit', 'department': 'snacks', 'product_id': 26148}\n",
      "page_content='Healthy Grains with Chia Seeds, Raspberry Clusters, found in the energy granola bars aisle of the snacks department.' metadata={'product_id': 28202, 'product_name': 'Healthy Grains with Chia Seeds, Raspberry Clusters', 'aisle': 'energy granola bars', 'department': 'snacks'}\n",
      "page_content='NUT-rition Heart Healthy Mixed Nuts, found in the nuts seeds dried fruit aisle of the snacks department.' metadata={'aisle': 'nuts seeds dried fruit', 'product_name': 'NUT-rition Heart Healthy Mixed Nuts', 'product_id': 23100, 'department': 'snacks'}\n",
      "page_content='NUTrition Wholesome Nut Mix, found in the nuts seeds dried fruit aisle of the snacks department.' metadata={'aisle': 'nuts seeds dried fruit', 'department': 'snacks', 'product_id': 21756, 'product_name': 'NUTrition Wholesome Nut Mix'}\n",
      "page_content='Nuts & Spices Dark Chocolate Nuts & Sea Salt Snack Bars, found in the energy granola bars aisle of the snacks department.' metadata={'department': 'snacks', 'aisle': 'energy granola bars', 'product_name': 'Nuts & Spices Dark Chocolate Nuts & Sea Salt Snack Bars', 'product_id': 43814}\n"
     ]
    },
    {
     "data": {
      "text/plain": [
       "[None, None, None, None, None]"
      ]
     },
     "execution_count": 7,
     "metadata": {},
     "output_type": "execute_result"
    }
   ],
   "source": [
    "type(results)\n",
    "list(map(lambda x: print(x), results))"
   ]
  },
  {
   "cell_type": "code",
   "execution_count": 3,
   "metadata": {},
   "outputs": [
    {
     "name": "stdout",
     "output_type": "stream",
     "text": [
      "[{'product_id': 26148, 'product_name': 'Heart Healthy Mix', 'aisle': 'nuts seeds dried fruit', 'department': 'snacks', 'text': 'Heart Healthy Mix, found in the nuts seeds dried fruit aisle of the snacks department.'}, {'product_id': 28202, 'product_name': 'Healthy Grains with Chia Seeds, Raspberry Clusters', 'aisle': 'energy granola bars', 'department': 'snacks', 'text': 'Healthy Grains with Chia Seeds, Raspberry Clusters, found in the energy granola bars aisle of the snacks department.'}, {'product_id': 21756, 'product_name': 'NUTrition Wholesome Nut Mix', 'aisle': 'nuts seeds dried fruit', 'department': 'snacks', 'text': 'NUTrition Wholesome Nut Mix, found in the nuts seeds dried fruit aisle of the snacks department.'}, {'product_id': 34471, 'product_name': 'Organic High Antioxidant Trail Mix', 'aisle': 'trail mix snack mix', 'department': 'snacks', 'text': 'Organic High Antioxidant Trail Mix, found in the trail mix snack mix aisle of the snacks department.'}, {'product_id': 3663, 'product_name': 'Mango Coconut Chia Squeeze Vitality Snack', 'aisle': 'nuts seeds dried fruit', 'department': 'snacks', 'text': 'Mango Coconut Chia Squeeze Vitality Snack, found in the nuts seeds dried fruit aisle of the snacks department.'}]\n"
     ]
    }
   ],
   "source": [
    "results1 = search_products(\"healthy snacks\")\n",
    "print(results1)"
   ]
  },
  {
   "cell_type": "code",
   "execution_count": 4,
   "metadata": {},
   "outputs": [
    {
     "name": "stderr",
     "output_type": "stream",
     "text": [
      "C:\\Users\\Carlos\\AppData\\Local\\Temp\\ipykernel_1800\\4251377581.py:1: LangChainDeprecationWarning: The method `BaseTool.__call__` was deprecated in langchain-core 0.1.47 and will be removed in 1.0. Use :meth:`~invoke` instead.\n",
      "  results2 = search_tool(\"healthy snacks\")\n"
     ]
    },
    {
     "name": "stdout",
     "output_type": "stream",
     "text": [
      "- Heart Healthy Mix (ID: 26148)\n",
      "  Aisle: nuts seeds dried fruit\n",
      "  Department: snacks\n",
      "  Details: Heart Healthy Mix, found in the nuts seeds dried fruit aisle of the snacks department.\n",
      "- Healthy Grains with Chia Seeds, Raspberry Clusters (ID: 28202)\n",
      "  Aisle: energy granola bars\n",
      "  Department: snacks\n",
      "  Details: Healthy Grains with Chia Seeds, Raspberry Clusters, found in the energy granola bars aisle of the snacks department.\n",
      "- NUTrition Wholesome Nut Mix (ID: 21756)\n",
      "  Aisle: nuts seeds dried fruit\n",
      "  Department: snacks\n",
      "  Details: NUTrition Wholesome Nut Mix, found in the nuts seeds dried fruit aisle of the snacks department.\n",
      "- Organic High Antioxidant Trail Mix (ID: 34471)\n",
      "  Aisle: trail mix snack mix\n",
      "  Department: snacks\n",
      "  Details: Organic High Antioxidant Trail Mix, found in the trail mix snack mix aisle of the snacks department.\n",
      "- Mango Coconut Chia Squeeze Vitality Snack (ID: 3663)\n",
      "  Aisle: nuts seeds dried fruit\n",
      "  Department: snacks\n",
      "  Details: Mango Coconut Chia Squeeze Vitality Snack, found in the nuts seeds dried fruit aisle of the snacks department.\n"
     ]
    }
   ],
   "source": [
    "results2 = search_tool(\"healthy snacks\")\n",
    "print(results2)"
   ]
  },
  {
   "cell_type": "code",
   "execution_count": 9,
   "metadata": {},
   "outputs": [
    {
     "name": "stdout",
     "output_type": "stream",
     "text": [
      "[{'product_id': 950, 'product_name': 'Toll House Ultimate Chocolate Peanut Butter Deluxe Cookie Dough', 'aisle': 'doughs gelatins bake mixes', 'department': 'pantry'}, {'product_id': 1203, 'product_name': 'Crunchy Organic Dark Roasted Peanut Butter', 'aisle': 'spreads', 'department': 'pantry'}, {'product_id': 1326, 'product_name': \"The Bee's Knees Honey Peanut Butter\", 'aisle': 'spreads', 'department': 'pantry'}, {'product_id': 1360, 'product_name': 'Crunchy Peanut Butter', 'aisle': 'spreads', 'department': 'pantry'}, {'product_id': 1429, 'product_name': '100% Natural Creamy Peanut Butter', 'aisle': 'spreads', 'department': 'pantry'}, {'product_id': 1818, 'product_name': 'Creamy Coconut & Peanut Spread', 'aisle': 'spreads', 'department': 'pantry'}, {'product_id': 1875, 'product_name': 'To Go Creamy Peanut Butter Cups', 'aisle': 'spreads', 'department': 'pantry'}, {'product_id': 1878, 'product_name': 'Peanut Butter, Creamy, No Salt Added', 'aisle': 'spreads', 'department': 'pantry'}, {'product_id': 1911, 'product_name': 'Peanut Butter Chocolate Chip Cookie Dough', 'aisle': 'doughs gelatins bake mixes', 'department': 'pantry'}, {'product_id': 2692, 'product_name': 'Creamy Peanut Butter Spread With Honey', 'aisle': 'spreads', 'department': 'pantry'}, {'product_id': 3226, 'product_name': 'Unsalted Smooth All Natural Peanut Butter', 'aisle': 'spreads', 'department': 'pantry'}, {'product_id': 3746, 'product_name': 'Reduced Fat Creamy Peanut Butter To Go', 'aisle': 'spreads', 'department': 'pantry'}, {'product_id': 4815, 'product_name': 'Vegan Creamy Coconut & Peanut Spread', 'aisle': 'spreads', 'department': 'pantry'}, {'product_id': 5366, 'product_name': 'Organic Superfood Peanut Butter Spread', 'aisle': 'spreads', 'department': 'pantry'}, {'product_id': 5703, 'product_name': 'Tamari Peanut Asian Dressing', 'aisle': 'salad dressing toppings', 'department': 'pantry'}, {'product_id': 5762, 'product_name': 'Chocolate Silk Peanut Butter Spread To Go', 'aisle': 'spreads', 'department': 'pantry'}, {'product_id': 5873, 'product_name': 'Old Fashioned Crunchy Peanut Butter With No Salt Added', 'aisle': 'spreads', 'department': 'pantry'}, {'product_id': 6089, 'product_name': 'Super Chunk Extra Crunchy Natural Peanut Butter Spread', 'aisle': 'spreads', 'department': 'pantry'}, {'product_id': 6369, 'product_name': 'Chunky Peanut Butter', 'aisle': 'spreads', 'department': 'pantry'}, {'product_id': 6932, 'product_name': 'Singles Creamy Peanut Butter', 'aisle': 'spreads', 'department': 'pantry'}, {'product_id': 6942, 'product_name': 'Organic Crunchy Salted Peanut Butter', 'aisle': 'spreads', 'department': 'pantry'}, {'product_id': 7236, 'product_name': 'Organic Peanut Powder Original', 'aisle': 'spreads', 'department': 'pantry'}, {'product_id': 8059, 'product_name': 'Peanut Butter, Old Fashioned, Unsalted, Smooth', 'aisle': 'spreads', 'department': 'pantry'}, {'product_id': 8239, 'product_name': 'Peanut Butter Creamy With Salt', 'aisle': 'spreads', 'department': 'pantry'}, {'product_id': 8663, 'product_name': 'Old Fashioned Crunchy Peanut Butter', 'aisle': 'spreads', 'department': 'pantry'}, {'product_id': 8792, 'product_name': '90% Less Fat Organic Powdered Peanut Butter', 'aisle': 'spreads', 'department': 'pantry'}, {'product_id': 9067, 'product_name': '100% Natural Crunchy Peanut Butter', 'aisle': 'spreads', 'department': 'pantry'}, {'product_id': 9544, 'product_name': 'Jif Natural Crunchy Peanut Butter', 'aisle': 'spreads', 'department': 'pantry'}, {'product_id': 9551, 'product_name': 'Natural Chunky Peanut Butter', 'aisle': 'spreads', 'department': 'pantry'}, {'product_id': 9932, 'product_name': 'Natural Creamy Peanut Butter', 'aisle': 'spreads', 'department': 'pantry'}, {'product_id': 10384, 'product_name': 'Natural Peanut Butter', 'aisle': 'spreads', 'department': 'pantry'}, {'product_id': 11147, 'product_name': 'Peanut Butter Low Sodium', 'aisle': 'spreads', 'department': 'pantry'}, {'product_id': 11632, 'product_name': '100% Natural Old Fashioned Creamy Peanut Butter', 'aisle': 'spreads', 'department': 'pantry'}, {'product_id': 11685, 'product_name': 'Peanut Butter Baking Chips', 'aisle': 'baking ingredients', 'department': 'pantry'}, {'product_id': 12761, 'product_name': 'Peanut Butter & Co Cinnamon Raisin Swirl', 'aisle': 'spreads', 'department': 'pantry'}, {'product_id': 12886, 'product_name': 'Enriched Gold Peanut Oil', 'aisle': 'oils vinegars', 'department': 'pantry'}, {'product_id': 12944, 'product_name': 'Creamy & Sweet No Stir Peanut Butter', 'aisle': 'spreads', 'department': 'pantry'}, {'product_id': 13139, 'product_name': 'Pure Peanut Oil', 'aisle': 'oils vinegars', 'department': 'pantry'}, {'product_id': 13974, 'product_name': 'Reduced Fat Creamy Peanut Butter Spread', 'aisle': 'spreads', 'department': 'pantry'}, {'product_id': 14798, 'product_name': 'Cream-Nut Smooth Natural Peanut Butter', 'aisle': 'spreads', 'department': 'pantry'}, {'product_id': 15235, 'product_name': \"Reese's Peanut Butter Chips\", 'aisle': 'baking ingredients', 'department': 'pantry'}, {'product_id': 15532, 'product_name': 'Classic Honey Peanut Butter Squeeze', 'aisle': 'spreads', 'department': 'pantry'}, {'product_id': 15657, 'product_name': 'Peanut Butter Honey Spread', 'aisle': 'honeys syrups nectars', 'department': 'pantry'}, {'product_id': 15771, 'product_name': 'Peanut Free SoyNut Butter Chocolate', 'aisle': 'spreads', 'department': 'pantry'}, {'product_id': 16194, 'product_name': 'White Chocolate Wonder Peanut Butter', 'aisle': 'spreads', 'department': 'pantry'}, {'product_id': 16382, 'product_name': 'Natural Smooth Peanut Butter', 'aisle': 'spreads', 'department': 'pantry'}, {'product_id': 16744, 'product_name': 'Peanut & Gluten Free Smooth Almond Butter', 'aisle': 'spreads', 'department': 'pantry'}, {'product_id': 16953, 'product_name': 'Creamy Peanut Butter', 'aisle': 'spreads', 'department': 'pantry'}, {'product_id': 17119, 'product_name': 'Super Chunk Extra Crunchy Peanut Butter', 'aisle': 'spreads', 'department': 'pantry'}, {'product_id': 17304, 'product_name': 'Powdered Peanut Butter', 'aisle': 'spreads', 'department': 'pantry'}, {'product_id': 17606, 'product_name': 'Premium Chocolate Powdered Peanut Butter', 'aisle': 'spreads', 'department': 'pantry'}, {'product_id': 17800, 'product_name': 'Peanut Butter 100% Natural Creamy', 'aisle': 'spreads', 'department': 'pantry'}, {'product_id': 19457, 'product_name': 'Organic One Ingredient Peanut Butter', 'aisle': 'spreads', 'department': 'pantry'}, {'product_id': 19548, 'product_name': 'Organic Lightly Roasted Crunchy Peanut Butter', 'aisle': 'spreads', 'department': 'pantry'}, {'product_id': 19638, 'product_name': 'Simply Jif Creamy Peanut Butter', 'aisle': 'spreads', 'department': 'pantry'}, {'product_id': 19910, 'product_name': 'Old Fashioned Nutty Chunky Peanut Butter', 'aisle': 'spreads', 'department': 'pantry'}, {'product_id': 20382, 'product_name': 'Natural Honey Peanut Butter', 'aisle': 'spreads', 'department': 'pantry'}, {'product_id': 21767, 'product_name': 'Organic Old Fashioned Creamy Peanut Butter', 'aisle': 'spreads', 'department': 'pantry'}, {'product_id': 22186, 'product_name': 'Peanut Butter Creamy', 'aisle': 'spreads', 'department': 'pantry'}, {'product_id': 22273, 'product_name': '100% All Natural Creamy Peanut Butter', 'aisle': 'spreads', 'department': 'pantry'}, {'product_id': 22400, 'product_name': 'Peanut Butter, Classic', 'aisle': 'spreads', 'department': 'pantry'}, {'product_id': 22721, 'product_name': 'Creamy Peanut Butter Dark Roasted', 'aisle': 'spreads', 'department': 'pantry'}, {'product_id': 23741, 'product_name': 'Natural Peanut Butter With Flaxseed', 'aisle': 'spreads', 'department': 'pantry'}, {'product_id': 24057, 'product_name': 'Peanut Butter Chocolate Spread', 'aisle': 'spreads', 'department': 'pantry'}, {'product_id': 25172, 'product_name': 'Peanut Butter Crunchy', 'aisle': 'spreads', 'department': 'pantry'}, {'product_id': 25351, 'product_name': 'Peanut Butter Dark Chocolate Dreams', 'aisle': 'spreads', 'department': 'pantry'}, {'product_id': 25517, 'product_name': 'Old Fashioned Organic Smooth Peanut Butter', 'aisle': 'spreads', 'department': 'pantry'}, {'product_id': 25535, 'product_name': 'Organic  Creamy Peanut Butter Hint of Sea Salt', 'aisle': 'spreads', 'department': 'pantry'}, {'product_id': 25680, 'product_name': 'Creamy Peanut Butter Spread', 'aisle': 'spreads', 'department': 'pantry'}, {'product_id': 25987, 'product_name': 'Gluten Free Peanut Butter Cookie', 'aisle': 'doughs gelatins bake mixes', 'department': 'pantry'}, {'product_id': 26600, 'product_name': 'Peanut Butter, Unsalted, Crunchy', 'aisle': 'spreads', 'department': 'pantry'}, {'product_id': 26898, 'product_name': '100% Pure Peanut Oil', 'aisle': 'oils vinegars', 'department': 'pantry'}, {'product_id': 27682, 'product_name': 'Peanut Butter Chips', 'aisle': 'baking supplies decor', 'department': 'pantry'}, {'product_id': 27684, 'product_name': 'Peanut Butter Chocolate Chip Vegan Cookie Dough', 'aisle': 'doughs gelatins bake mixes', 'department': 'pantry'}, {'product_id': 28139, 'product_name': 'Clif Bar Nut Butter Filed Chocolate Peanut Butter 4 Ct 7.04 Oz', 'aisle': 'spreads', 'department': 'pantry'}, {'product_id': 28767, 'product_name': 'Organic Crunchy Peanut Butter', 'aisle': 'spreads', 'department': 'pantry'}, {'product_id': 29151, 'product_name': 'Natural Creamy Peanut Butter And Flaxseed, Single Serve Packs', 'aisle': 'spreads', 'department': 'pantry'}, {'product_id': 29805, 'product_name': 'Reduced Fat Super Chunk Peanut Butter', 'aisle': 'spreads', 'department': 'pantry'}, {'product_id': 30051, 'product_name': 'American Classic Crunchy Peanut Butter', 'aisle': 'spreads', 'department': 'pantry'}, {'product_id': 30063, 'product_name': 'Coconut & Peanut Spread, Crunchy', 'aisle': 'spreads', 'department': 'pantry'}, {'product_id': 30809, 'product_name': 'Organic No Stir Creamy Peanut Butter', 'aisle': 'spreads', 'department': 'pantry'}, {'product_id': 30894, 'product_name': 'Supreme Peanut Butter Brownie Mix', 'aisle': 'doughs gelatins bake mixes', 'department': 'pantry'}, {'product_id': 31763, 'product_name': 'Peanut Butter Chocolate Cookie Dough', 'aisle': 'doughs gelatins bake mixes', 'department': 'pantry'}, {'product_id': 31942, 'product_name': 'Chunky Peanut Butter Chocolate High Protein Bars', 'aisle': 'spreads', 'department': 'pantry'}, {'product_id': 32338, 'product_name': 'Natural Jif Creamy Peanut Butter Spread', 'aisle': 'spreads', 'department': 'pantry'}, {'product_id': 33798, 'product_name': 'Peanut Butter, Old Fashioned, Reduced Fat, Smooth', 'aisle': 'spreads', 'department': 'pantry'}, {'product_id': 33872, 'product_name': 'Smooth Peanut Butter', 'aisle': 'spreads', 'department': 'pantry'}, {'product_id': 33902, 'product_name': 'Honey Peanut Butter With Crunchy Pretzel Bits', 'aisle': 'spreads', 'department': 'pantry'}, {'product_id': 34582, 'product_name': 'Natural Creamy Peanut Butter Spread', 'aisle': 'spreads', 'department': 'pantry'}, {'product_id': 34860, 'product_name': 'Reduced Fat Creamy Peanut Butter', 'aisle': 'spreads', 'department': 'pantry'}, {'product_id': 34895, 'product_name': 'Protein + Chocolate Peanut Butter', 'aisle': 'spreads', 'department': 'pantry'}, {'product_id': 35501, 'product_name': 'Organic Natural Creamy Peanut Butter', 'aisle': 'spreads', 'department': 'pantry'}, {'product_id': 35515, 'product_name': 'Peanut Butter Cookie Mix', 'aisle': 'doughs gelatins bake mixes', 'department': 'pantry'}, {'product_id': 35718, 'product_name': \"Reese's Peanut Butter & Chocolate Chunk Cookie Mix\", 'aisle': 'doughs gelatins bake mixes', 'department': 'pantry'}, {'product_id': 35980, 'product_name': 'Organic Crunchy No Salt Added Peanut Butter', 'aisle': 'spreads', 'department': 'pantry'}, {'product_id': 36241, 'product_name': 'Sugar & Fat Free Whipped Peanut Spread', 'aisle': 'spreads', 'department': 'pantry'}, {'product_id': 36287, 'product_name': 'Smooth Operator Natural Peanut Butter', 'aisle': 'spreads', 'department': 'pantry'}, {'product_id': 36543, 'product_name': 'Bars Peanut Butter', 'aisle': 'spreads', 'department': 'pantry'}, {'product_id': 36785, 'product_name': 'Natural Crunchy Peanut Butter', 'aisle': 'spreads', 'department': 'pantry'}, {'product_id': 37517, 'product_name': 'Natural Honey Creamy Peanut Butter', 'aisle': 'spreads', 'department': 'pantry'}, {'product_id': 37757, 'product_name': 'Fresh Ground Crunchy Peanut Butter', 'aisle': 'spreads', 'department': 'pantry'}, {'product_id': 37974, 'product_name': 'Peanut Butter Chub Cookie 30oz', 'aisle': 'doughs gelatins bake mixes', 'department': 'pantry'}, {'product_id': 38386, 'product_name': 'Powdered Peanut Butter Chia & Flax', 'aisle': 'spreads', 'department': 'pantry'}, {'product_id': 38439, 'product_name': 'Mara Natha Organic Peanut Butter Creamy', 'aisle': 'spreads', 'department': 'pantry'}, {'product_id': 38902, 'product_name': 'Creamy Peanut Free Spread', 'aisle': 'spreads', 'department': 'pantry'}, {'product_id': 38926, 'product_name': 'Roasted Peanut Oil', 'aisle': 'oils vinegars', 'department': 'pantry'}, {'product_id': 40261, 'product_name': 'Extra Crunchy Peanut Butter', 'aisle': 'spreads', 'department': 'pantry'}, {'product_id': 40458, 'product_name': 'Dark Chocolate Dreams Peanut Butter', 'aisle': 'spreads', 'department': 'pantry'}, {'product_id': 40459, 'product_name': 'Old Fashioned Smooth Peanut Butter', 'aisle': 'spreads', 'department': 'pantry'}, {'product_id': 40475, 'product_name': 'Peanut Butter, Chocolate Coconut', 'aisle': 'spreads', 'department': 'pantry'}, {'product_id': 40913, 'product_name': 'Organic Smooth Peanut Butter', 'aisle': 'spreads', 'department': 'pantry'}, {'product_id': 41198, 'product_name': 'Classic Peanut Butter', 'aisle': 'spreads', 'department': 'pantry'}, {'product_id': 41712, 'product_name': 'American Classic Creamy Peanut Butter', 'aisle': 'spreads', 'department': 'pantry'}, {'product_id': 42086, 'product_name': 'Roasted Garlic Peanut Sauce', 'aisle': 'marinades meat preparation', 'department': 'pantry'}, {'product_id': 42316, 'product_name': '100% Natural Creamy Unsalted Peanut Butter', 'aisle': 'spreads', 'department': 'pantry'}, {'product_id': 42560, 'product_name': 'Classic Creamy Peanut Butter', 'aisle': 'spreads', 'department': 'pantry'}, {'product_id': 43713, 'product_name': 'Organic Creamy Peanut Butter', 'aisle': 'spreads', 'department': 'pantry'}, {'product_id': 43974, 'product_name': 'Whips Creamy Whipped Peanut Butter', 'aisle': 'spreads', 'department': 'pantry'}, {'product_id': 44728, 'product_name': 'Creamy Natural Peanut Butter And Flaxseed', 'aisle': 'spreads', 'department': 'pantry'}, {'product_id': 44730, 'product_name': 'Natural Old Fashioned Creamy Peanut Butter', 'aisle': 'spreads', 'department': 'pantry'}, {'product_id': 45121, 'product_name': '100% All Natural Crunchy Peanut Butter', 'aisle': 'spreads', 'department': 'pantry'}, {'product_id': 45567, 'product_name': 'Simply Peanut Butter Cookie Dough', 'aisle': 'doughs gelatins bake mixes', 'department': 'pantry'}, {'product_id': 45756, 'product_name': 'Toll House Peanut Butter & Milk Chocolate Morsels', 'aisle': 'baking ingredients', 'department': 'pantry'}, {'product_id': 45885, 'product_name': 'Mara Natha Organic Peanut Butter Crunchy', 'aisle': 'spreads', 'department': 'pantry'}, {'product_id': 46524, 'product_name': 'Natural Peanut Butter Crunchy and Flaxseed', 'aisle': 'spreads', 'department': 'pantry'}, {'product_id': 46706, 'product_name': 'Goober Grape Peanut Butter and Jelly Spread', 'aisle': 'spreads', 'department': 'pantry'}, {'product_id': 47061, 'product_name': 'Organic Peanut Oil', 'aisle': 'oils vinegars', 'department': 'pantry'}, {'product_id': 47181, 'product_name': \"Reese's Peanut Butter Chocolate Dessert Bar Mix\", 'aisle': 'doughs gelatins bake mixes', 'department': 'pantry'}, {'product_id': 47499, 'product_name': \"Big Deluxe Reese's Mini Pieces Peanut Butter Cookies\", 'aisle': 'doughs gelatins bake mixes', 'department': 'pantry'}, {'product_id': 48157, 'product_name': 'Organic Powered Chocolate Peanut Butter', 'aisle': 'spreads', 'department': 'pantry'}, {'product_id': 48223, 'product_name': 'Peanut Oil', 'aisle': 'oils vinegars', 'department': 'pantry'}, {'product_id': 48251, 'product_name': 'Old Fashioned Nutty Peanut Butter', 'aisle': 'spreads', 'department': 'pantry'}, {'product_id': 48886, 'product_name': 'Peanut Powder', 'aisle': 'spreads', 'department': 'pantry'}, {'product_id': 48965, 'product_name': 'Natural Low Sodium Creamy Peanut Butter Spread', 'aisle': 'spreads', 'department': 'pantry'}, {'product_id': 49057, 'product_name': 'Dark Chocolate Peanut Butter', 'aisle': 'spreads', 'department': 'pantry'}, {'product_id': 49276, 'product_name': 'Smooth Old Fashioned Peanut Butter', 'aisle': 'spreads', 'department': 'pantry'}]\n"
     ]
    }
   ],
   "source": [
    "results3 = structured_search_tool({\n",
    "    \"product_name\": \"peanut\",\n",
    "    \"department\": \"pantry\"\n",
    "})\n",
    "print(results3)"
   ]
  },
  {
   "cell_type": "code",
   "execution_count": 8,
   "metadata": {},
   "outputs": [
    {
     "name": "stdout",
     "output_type": "stream",
     "text": [
      "[{'product_id': 24954, 'product_name': 'Total 0% with Honey Nonfat Greek Strained Yogurt', 'aisle': 'yogurt', 'department': 'dairy eggs', 'count': 1}, {'product_id': 4957, 'product_name': 'Total 2% Lowfat Greek Strained Yogurt With Blueberry', 'aisle': 'yogurt', 'department': 'dairy eggs', 'count': 1}, {'product_id': 46676, 'product_name': 'Total 0% Nonfat Greek Yogurt', 'aisle': 'yogurt', 'department': 'dairy eggs', 'count': 1}, {'product_id': 40571, 'product_name': 'Total 2% Greek Strained Yogurt with Cherry 5.3 oz', 'aisle': 'yogurt', 'department': 'dairy eggs', 'count': 1}, {'product_id': 13351, 'product_name': 'Total 0% Peach Yogurt', 'aisle': 'yogurt', 'department': 'dairy eggs', 'count': 2}]\n"
     ]
    }
   ],
   "source": [
    "DEFAULT_USER_ID = 2\n",
    "# Establecer el ID del usuario\n",
    "set_user_id(DEFAULT_USER_ID)  # Puedes usar DEFAULT_USER_ID o cualquier ID válido de VALID_USER_IDS\n",
    "\n",
    "# Realizar la búsqueda\n",
    "results4 = structured_search_tool({\n",
    "    \"product_name\": \"Yogurt\",\n",
    "    \"department\": \"dairy eggs\",\n",
    "    \"top_k\": 5,\n",
    "    \"order_by\": \"count\",\n",
    "    \"ascending\": True,\n",
    "    \"history_only\": True\n",
    "})\n",
    "\n",
    "print(results4)"
   ]
  },
  {
   "cell_type": "code",
   "execution_count": 6,
   "metadata": {},
   "outputs": [
    {
     "name": "stdout",
     "output_type": "stream",
     "text": [
      "[{'error': 'Error during structured search: User ID not set. Use set_user_id() before calling this tool.'}]\n"
     ]
    }
   ],
   "source": [
    "results5 = structured_search_tool({\"history_only\": True, \"top_k\": 5})\n",
    "print(results5)"
   ]
  }
 ],
 "metadata": {
  "kernelspec": {
   "display_name": "tasks1",
   "language": "python",
   "name": "python3"
  },
  "language_info": {
   "codemirror_mode": {
    "name": "ipython",
    "version": 3
   },
   "file_extension": ".py",
   "mimetype": "text/x-python",
   "name": "python",
   "nbconvert_exporter": "python",
   "pygments_lexer": "ipython3",
   "version": "3.12.7"
  }
 },
 "nbformat": 4,
 "nbformat_minor": 2
}
